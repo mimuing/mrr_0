{
 "cells": [
  {
   "attachments": {},
   "cell_type": "markdown",
   "metadata": {},
   "source": [
    "# Utility Notebook - Make train.csv\n",
    "\n",
    "이 노트북은 train.csv를 생성합니다. \n",
    "- 404Vector"
   ]
  },
  {
   "cell_type": "code",
   "execution_count": 1,
   "metadata": {},
   "outputs": [],
   "source": [
    "import os\n",
    "import glob\n",
    "import pandas as pd\n",
    "from sklearn import preprocessing\n",
    "from sklearn.model_selection import train_test_split"
   ]
  },
  {
   "cell_type": "code",
   "execution_count": 2,
   "metadata": {},
   "outputs": [],
   "source": [
    "CONFIG = {\n",
    "    \"data_path\" : \"./.local\", # data가 있는 경로를 아래 data_path에 입력해줍니다.\n",
    "    \"include_data_path\" : True, # csv에 위 data_path를 포함하여 이미지 경로를 생성할지 결정합니다.\n",
    "    \"result_csv_path\" : \"./.local/train.csv\", # csv를 저장할 경로 및 이름을 입력합니다.\n",
    "    \"save_label_info\" : True, # Encoding 된 라벨에 대한 정보를 저장합니다.\n",
    "    \"result_label_info_path\" : \"./.local/label_info.csv\" # label info를 저장할 경로 및 이름을 입력합니다.\n",
    "}"
   ]
  },
  {
   "cell_type": "code",
   "execution_count": 3,
   "metadata": {},
   "outputs": [
    {
     "name": "stdout",
     "output_type": "stream",
     "text": [
      "                    img_path  label description\n",
      "0   ./.local/train/녹오염/8.png      4         녹오염\n",
      "1   ./.local/train/녹오염/9.png      4         녹오염\n",
      "2  ./.local/train/녹오염/12.png      4         녹오염\n",
      "3  ./.local/train/녹오염/13.png      4         녹오염\n",
      "4  ./.local/train/녹오염/11.png      4         녹오염\n"
     ]
    }
   ],
   "source": [
    "# 모든 이미지의 경로를 가져옵니다.\n",
    "all_img_list = glob.glob(os.path.join(CONFIG['data_path'], 'train/*/*'))\n",
    "\n",
    "# data frame 인스턴스를 생성합니다. column은 [이미지 경로, 라벨(숫자 값) 설명(한글 라벨)] 입니다.\n",
    "df = pd.DataFrame(columns=['img_path', 'label', 'description']) \n",
    "\n",
    "# data frame에 image path를 입력합니다. \n",
    "df['img_path'] = all_img_list if CONFIG['include_data_path'] else [path[len(CONFIG['data_path']):] for path in all_img_list]\n",
    "\n",
    "# data frame에 description을 입력합니다.\n",
    "df['description'] = df['img_path'].apply(lambda x : str(x).split('/')[-2])\n",
    "\n",
    "# data frame에 label을 입력합니다.\n",
    "le = preprocessing.LabelEncoder()\n",
    "df['label'] = le.fit_transform(df['description'])\n",
    "\n",
    "# train.csv 파일을 생성합니다.\n",
    "print(df.head())\n",
    "df.to_csv(CONFIG['result_csv_path'], index=False)"
   ]
  },
  {
   "cell_type": "code",
   "execution_count": 4,
   "metadata": {},
   "outputs": [
    {
     "name": "stdout",
     "output_type": "stream",
     "text": [
      "   label description\n",
      "0      0        가구수정\n",
      "1      1      걸레받이수정\n",
      "2      2         곰팡이\n",
      "3      3          꼬임\n",
      "4      4         녹오염\n",
      "5      5          들뜸\n",
      "6      6         면불량\n",
      "7      7        몰딩수정\n",
      "8      8          반점\n",
      "9      9        석고수정\n",
      "10    10          오염\n",
      "11    11         오타공\n",
      "12    12          울음\n",
      "13    13       이음부불량\n",
      "14    14     창틀,문틀수정\n",
      "15    15          터짐\n",
      "16    16        틈새과다\n",
      "17    17          피스\n",
      "18    18          훼손\n"
     ]
    }
   ],
   "source": [
    "# Label info를 생성 및 저장합니다.\n",
    "if CONFIG['save_label_info']:\n",
    "    label_info_df = pd.DataFrame(columns=['label', 'description'])\n",
    "    label_info_pair = [[label, description] for label, description in enumerate(le.classes_.tolist())]\n",
    "    label_info_df[['label', 'description']] = label_info_pair[:]\n",
    "    print(label_info_df)\n",
    "    label_info_df.to_csv(CONFIG['result_label_info_path'], index=False)\n"
   ]
  },
  {
   "cell_type": "code",
   "execution_count": null,
   "metadata": {},
   "outputs": [],
   "source": []
  }
 ],
 "metadata": {
  "kernelspec": {
   "display_name": "Competition.DACON.WallPaperingDefect-9JJE2YOB",
   "language": "python",
   "name": "python3"
  },
  "language_info": {
   "codemirror_mode": {
    "name": "ipython",
    "version": 3
   },
   "file_extension": ".py",
   "mimetype": "text/x-python",
   "name": "python",
   "nbconvert_exporter": "python",
   "pygments_lexer": "ipython3",
   "version": "3.9.15"
  },
  "orig_nbformat": 4
 },
 "nbformat": 4,
 "nbformat_minor": 2
}
